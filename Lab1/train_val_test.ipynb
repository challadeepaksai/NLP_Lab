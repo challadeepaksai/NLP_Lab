{
 "cells": [
  {
   "cell_type": "code",
   "execution_count": 1,
   "id": "21e1de14",
   "metadata": {},
   "outputs": [
    {
     "name": "stdout",
     "output_type": "stream",
     "text": [
      "✅ Done! Saved train, test, and val parquet files.\n"
     ]
    }
   ],
   "source": [
    "import pyarrow.parquet as pq\n",
    "import pandas as pd\n",
    "import random\n",
    "\n",
    "# Input parquet file\n",
    "INPUT_FILE = \"sentences.parquet\"\n",
    "\n",
    "# Output files\n",
    "TRAIN_FILE = \"train.parquet\"\n",
    "TEST_FILE  = \"test.parquet\"\n",
    "VAL_FILE   = \"val.parquet\"\n",
    "\n",
    "# Sample sizes\n",
    "TRAIN_SIZE = 1_000_000\n",
    "TEST_SIZE  = 100_000\n",
    "VAL_SIZE   = 100_000\n",
    "TOTAL_SIZE = TRAIN_SIZE + TEST_SIZE + VAL_SIZE  # 1.2M\n",
    "\n",
    "# Reservoir sampling setup\n",
    "reservoir = []\n",
    "n = 0  # total rows seen so far\n",
    "\n",
    "# Read in batches (so memory stays small)\n",
    "parquet = pq.ParquetFile(INPUT_FILE)\n",
    "\n",
    "for batch in parquet.iter_batches(batch_size=10_000):\n",
    "    df_batch = batch.to_pandas()\n",
    "    for row in df_batch.itertuples(index=False):\n",
    "        n += 1\n",
    "        if len(reservoir) < TOTAL_SIZE:\n",
    "            reservoir.append(row)\n",
    "        else:\n",
    "            j = random.randint(0, n - 1)\n",
    "            if j < TOTAL_SIZE:\n",
    "                reservoir[j] = row\n",
    "\n",
    "# Convert reservoir to DataFrame\n",
    "df = pd.DataFrame(reservoir, columns=df_batch.columns)\n",
    "\n",
    "# Shuffle the sample\n",
    "df = df.sample(frac=1, random_state=42).reset_index(drop=True)\n",
    "\n",
    "# Split into train, test, val\n",
    "train_df = df.iloc[:TRAIN_SIZE]\n",
    "test_df  = df.iloc[TRAIN_SIZE:TRAIN_SIZE+TEST_SIZE]\n",
    "val_df   = df.iloc[TRAIN_SIZE+TEST_SIZE:]\n",
    "\n",
    "# Save to parquet\n",
    "train_df.to_parquet(TRAIN_FILE, index=False)\n",
    "test_df.to_parquet(TEST_FILE, index=False)\n",
    "val_df.to_parquet(VAL_FILE, index=False)\n",
    "\n",
    "print(\"✅ Done! Saved train, test, and val parquet files.\")\n"
   ]
  }
 ],
 "metadata": {
  "kernelspec": {
   "display_name": "base",
   "language": "python",
   "name": "python3"
  },
  "language_info": {
   "codemirror_mode": {
    "name": "ipython",
    "version": 3
   },
   "file_extension": ".py",
   "mimetype": "text/x-python",
   "name": "python",
   "nbconvert_exporter": "python",
   "pygments_lexer": "ipython3",
   "version": "3.12.7"
  }
 },
 "nbformat": 4,
 "nbformat_minor": 5
}
