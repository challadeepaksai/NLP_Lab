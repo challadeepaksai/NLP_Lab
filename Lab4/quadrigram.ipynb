{
 "cells": [
  {
   "cell_type": "code",
   "execution_count": 1,
   "metadata": {},
   "outputs": [
    {
     "name": "stdout",
     "output_type": "stream",
     "text": [
      "done\n"
     ]
    }
   ],
   "source": [
    "from collections import Counter\n",
    "import math\n",
    "def corpus_reader(path,limit_bytes=2*1024*1024*1024):\n",
    "    read_bytes=0\n",
    "    with open(path,'r',encoding='utf-8',errors='ignore') as f:\n",
    "        for line in f:\n",
    "            b=len(line.encode('utf-8'))\n",
    "            if read_bytes+b>limit_bytes:\n",
    "                break\n",
    "            read_bytes+=b\n",
    "            s=line.strip()\n",
    "            if s:\n",
    "                yield s\n",
    "def tokenize(s):\n",
    "    return s.split()\n",
    "def prepare_tokens(s):\n",
    "    return ['<s>']+tokenize(s)+['</s>']\n",
    "def build_ngrams(tokens,n):\n",
    "    return [tuple(tokens[i:i+n]) for i in range(len(tokens)-n+1)]\n",
    "def build_counts(corpus,n):\n",
    "    c=Counter()\n",
    "    for sent in corpus:\n",
    "        t=prepare_tokens(sent)\n",
    "        c.update(build_ngrams(t,n))\n",
    "    return c\n",
    "def vocab_from_counts(unigram_counts):\n",
    "    return set(w[0] for w in unigram_counts.keys())\n",
    "def prob_quad_addone(qg,quad,tri,V):\n",
    "    h=qg[:-1]\n",
    "    return (quad[qg]+1)/(tri[h]+V)\n",
    "def prob_quad_addk(qg,quad,tri,V,k):\n",
    "    h=qg[:-1]\n",
    "    return (quad[qg]+k)/(tri[h]+k*V)\n",
    "def prob_quad_tokentype(qg,quad,tri,token_types):\n",
    "    h=qg[:-1]\n",
    "    return (quad[qg]+1)/(tri[h]+token_types)\n",
    "def sentence_logprob_quad(sentence,quad,tri,V,method='addone',k=0.5,token_types=None):\n",
    "    t=prepare_tokens(sentence)\n",
    "    ngrams=build_ngrams(t,4)\n",
    "    logp=0.0\n",
    "    for ng in ngrams:\n",
    "        if method=='addone':\n",
    "            p=prob_quad_addone(ng,quad,tri,V)\n",
    "        elif method=='addk':\n",
    "            p=prob_quad_addk(ng,quad,tri,V,k)\n",
    "        else:\n",
    "            p=prob_quad_tokentype(ng,quad,tri,token_types if token_types is not None else V)\n",
    "        logp+=math.log(p)\n",
    "    return logp\n",
    "def evaluate(sentences_path,quad,tri,V,out_path,k=0.5):\n",
    "    with open(sentences_path,'r',encoding='utf-8',errors='ignore') as f, open(out_path,'w',encoding='utf-8') as out:\n",
    "        out.write('sentence\\tlogprob_addone\\tlogprob_addk\\tlogprob_tokentype\\n')\n",
    "        for line in f:\n",
    "            s=line.strip()\n",
    "            if not s:\n",
    "                continue\n",
    "            lp1=sentence_logprob_quad(s,quad,tri,V,'addone')\n",
    "            lpk=sentence_logprob_quad(s,quad,tri,V,'addk',k=k)\n",
    "            lpt=sentence_logprob_quad(s,quad,tri,V,'tokentype',token_types=V)\n",
    "            out.write(s.replace('\\t',' ')+'\\t'+str(lp1)+'\\t'+str(lpk)+'\\t'+str(lpt)+'\\n')\n",
    "corpus_path='/home/deepakchalla/Desktop/NLP/Lab1/tokenized_output.txt'\n",
    "sentences_path='sentences.txt'\n",
    "limit_bytes=0.5*1024*1024*1024\n",
    "k=0.5\n",
    "uni=build_counts(corpus_reader(corpus_path,limit_bytes),1)\n",
    "bi=build_counts(corpus_reader(corpus_path,limit_bytes),2)\n",
    "tri=build_counts(corpus_reader(corpus_path,limit_bytes),3)\n",
    "quad=build_counts(corpus_reader(corpus_path,limit_bytes),4)\n",
    "V=len(vocab_from_counts(uni))\n",
    "evaluate(sentences_path,quad,tri,V,'results_quadrigram.tsv',k=k)\n",
    "print('done')\n"
   ]
  }
 ],
 "metadata": {
  "kernelspec": {
   "display_name": "base",
   "language": "python",
   "name": "python3"
  },
  "language_info": {
   "codemirror_mode": {
    "name": "ipython",
    "version": 3
   },
   "file_extension": ".py",
   "mimetype": "text/x-python",
   "name": "python",
   "nbconvert_exporter": "python",
   "pygments_lexer": "ipython3",
   "version": "3.12.7"
  }
 },
 "nbformat": 4,
 "nbformat_minor": 2
}
