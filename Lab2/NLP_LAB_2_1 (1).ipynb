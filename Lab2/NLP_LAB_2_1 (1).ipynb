{
  "cells": [
    {
      "cell_type": "code",
      "execution_count": 1,
      "metadata": {
        "colab": {
          "base_uri": "https://localhost:8080/"
        },
        "id": "ALultzlqeO-z",
        "outputId": "b2c2ced8-e946-4b31-9d65-e8ef907ea1d4"
      },
      "outputs": [
        {
          "name": "stdout",
          "output_type": "stream",
          "text": [
            "Requirement already satisfied: automathon in /home/deepakchalla/anaconda3/lib/python3.12/site-packages (0.0.15)\n",
            "Requirement already satisfied: graphviz==0.16 in /home/deepakchalla/anaconda3/lib/python3.12/site-packages (from automathon) (0.16)\n",
            "Note: you may need to restart the kernel to use updated packages.\n"
          ]
        }
      ],
      "source": [
        "%pip install automathon"
      ]
    },
    {
      "cell_type": "code",
      "execution_count": 10,
      "metadata": {
        "colab": {
          "base_uri": "https://localhost:8080/"
        },
        "id": "x-9nwxeO7htJ",
        "outputId": "b20a0608-7aca-499e-bcd1-9cfe6ce5e98c"
      },
      "outputs": [
        {
          "name": "stdout",
          "output_type": "stream",
          "text": [
            "{'w': 'q1', 'i': 'q1', 'l': 'q1', 'h': 'q1', 'e': 'q1', 'p': 'q1', 'g': 'q1', 'c': 'q1', 'z': 'q1', 'a': 'q1', 'j': 'q1', 'm': 'q1', 'n': 'q1', 'f': 'q1', 'q': 'q1', 'b': 'q1', 's': 'q1', 'x': 'q1', 'o': 'q1', 'u': 'q1', 'r': 'q1', 'd': 'q1', 't': 'q1', 'k': 'q1', 'y': 'q1', 'v': 'q1'}\n",
            "{'w': 'q1', 'i': 'q1', 'l': 'q1', 'h': 'q1', 'e': 'q1', 'p': 'q1', 'g': 'q1', 'c': 'q1', 'z': 'q1', 'a': 'q1', 'j': 'q1', 'm': 'q1', 'n': 'q1', 'f': 'q1', 'q': 'q1', 'b': 'q1', 's': 'q1', 'x': 'q1', 'o': 'q1', 'u': 'q1', 'r': 'q1', 'd': 'q1', 't': 'q1', 'k': 'q1', 'y': 'q1', 'v': 'q1', '8': 'q2', '6': 'q2', '9': 'q2', 'U': 'q2', '[': 'q2', '!': 'q2', 'Z': 'q2', 'T': 'q2', 'A': 'q2', 'H': 'q2', \"'\": 'q2', '.': 'q2', '@': 'q2', '0': 'q2', '/': 'q2', '1': 'q2', '&': 'q2', '}': 'q2', 'N': 'q2', '#': 'q2', '>': 'q2', ' ': 'q2', 'V': 'q2', '<': 'q2', 'J': 'q2', '3': 'q2', '4': 'q2', '2': 'q2', ']': 'q2', '*': 'q2', ')': 'q2', 'I': 'q2', 'P': 'q2', 'X': 'q2', '7': 'q2', ':': 'q2', '%': 'q2', ';': 'q2', 'Q': 'q2', '{': 'q2', 'D': 'q2', '\\n': 'q2', 'K': 'q2', 'M': 'q2', '|': 'q2', '5': 'q2', 'E': 'q2', '~': 'q2', '-': 'q2', 'Y': 'q2', 'O': 'q2', 'S': 'q2', '\\x0c': 'q2', 'C': 'q2', 'R': 'q2', '$': 'q2', '\\\\': 'q2', 'G': 'q2', '^': 'q2', '=': 'q2', '+': 'q2', '\\x0b': 'q2', '\\t': 'q2', '?': 'q2', '`': 'q2', 'F': 'q2', ',': 'q2', '(': 'q2', '\\r': 'q2', '_': 'q2', 'B': 'q2', 'L': 'q2', 'W': 'q2', '\"': 'q2'}\n"
          ]
        }
      ],
      "source": [
        "import string\n",
        "\n",
        "\n",
        "input_symbols = set(string.ascii_lowercase)\n",
        "\n",
        "excluded = set(string.printable) - input_symbols\n",
        "\n",
        "symbols = input_symbols.union(excluded)\n",
        "\n",
        "\n",
        "\n",
        "q0_q1_dict={}\n",
        "for char in input_symbols:\n",
        "  q0_q1_dict.update({char:'q1'})\n",
        "print(q0_q1_dict)\n",
        "\n",
        "q0_dead_dict={}\n",
        "for char in excluded:\n",
        "  q0_dead_dict.update({char:'q2'})\n",
        "\n",
        "q0_dict=q0_q1_dict.copy()\n",
        "q0_dict.update(q0_dead_dict)\n",
        "\n",
        "q1_dead_dict={}\n",
        "for char in excluded:\n",
        "  q1_dead_dict.update({char:'q2'})\n",
        "\n",
        "q1_q1_dict={}\n",
        "for char in input_symbols:\n",
        "  q1_q1_dict.update({char:'q1'})\n",
        "\n",
        "q1_dict=q1_q1_dict.copy()\n",
        "q1_dict.update(q1_dead_dict)\n",
        "\n",
        "q2_dead_dict={}\n",
        "for char in excluded:\n",
        "  q2_dead_dict.update({char:'q2'})\n",
        "\n",
        "print(q1_dict)"
      ]
    },
    {
      "cell_type": "code",
      "execution_count": 11,
      "metadata": {
        "id": "mjWSJHpE8qo9"
      },
      "outputs": [],
      "source": [
        "from automathon import DFA\n",
        "q = {'q0', 'q1', 'q2'}\n",
        "sigma = symbols\n",
        "delta = { 'q0' : q0_dict,\n",
        "          'q1' : q1_dict,\n",
        "          'q2' : q2_dead_dict\n",
        "        }\n",
        "initial_state = 'q0'\n",
        "f = {'q1'}\n",
        "\n",
        "automata = DFA(q, sigma, delta, initial_state, f)"
      ]
    },
    {
      "cell_type": "code",
      "execution_count": 12,
      "metadata": {
        "colab": {
          "base_uri": "https://localhost:8080/"
        },
        "id": "1WpIwxMu_lMO",
        "outputId": "60ceb8a1-db6b-4d09-c0b0-4cbfb9e6517b"
      },
      "outputs": [
        {
          "data": {
            "text/plain": [
              "True"
            ]
          },
          "execution_count": 12,
          "metadata": {},
          "output_type": "execute_result"
        }
      ],
      "source": [
        "automata.is_valid()"
      ]
    },
    {
      "cell_type": "code",
      "execution_count": 13,
      "metadata": {
        "id": "CC9At7WC_w9v"
      },
      "outputs": [],
      "source": [
        "result=[]\n",
        "with open('brown_nouns.txt','r') as f:\n",
        "  for word in f:\n",
        "    word = word.strip()\n",
        "    if(automata.accept(word)):\n",
        "      result.append(\"Accepted\")\n",
        "    else:\n",
        "      result.append(\"Not Accepted\")\n",
        "\n",
        "with open('results.txt','w+') as f:\n",
        "  for res in result:\n",
        "    f.write(res + '\\n')"
      ]
    },
    {
      "cell_type": "code",
      "execution_count": null,
      "metadata": {
        "colab": {
          "base_uri": "https://localhost:8080/",
          "height": 36
        },
        "id": "b985piotBLys",
        "outputId": "37d4b661-7e1c-4f34-b1bb-768c3058e700"
      },
      "outputs": [
        {
          "data": {
            "text/plain": [
              "'clean_dfa.png'"
            ]
          },
          "execution_count": 15,
          "metadata": {},
          "output_type": "execute_result"
        },
        {
          "name": "stdout",
          "output_type": "stream",
          "text": [
            "Opening in existing browser session.\n"
          ]
        },
        {
          "name": "stderr",
          "output_type": "stream",
          "text": [
            "[7885:7885:0820/091221.394069:ERROR:gl_surface_presentation_helper.cc(260)] GetVSyncParametersIfAvailable() failed for 2 times!\n",
            "[7885:7885:0820/091222.809284:ERROR:gl_surface_presentation_helper.cc(260)] GetVSyncParametersIfAvailable() failed for 3 times!\n"
          ]
        }
      ],
      "source": [
        "from graphviz import Digraph\n",
        "\n",
        "def fmt(symbols):\n",
        "    return ', '.join(sorted(symbols))\n",
        "\n",
        "# Create Digraph with higher DPI and bigger size\n",
        "dot = Digraph(name=\"DFA\", format='png')\n",
        "dot.attr(rankdir='LR', size='12,8', fontsize='20', dpi='200')  # higher resolution\n",
        "\n",
        "# Node styles\n",
        "dot.attr('node', shape='circle', fontsize='18')\n",
        "dot.node('q0')\n",
        "dot.node('q1', shape='doublecircle')  # accepting state\n",
        "dot.node('q2')\n",
        "\n",
        "# Start arrow\n",
        "dot.node('', shape='plaintext', label='')\n",
        "dot.edge('', 'q0')\n",
        "\n",
        "# Transitions\n",
        "dot.edge('q0', 'q1', label=fmt(q0_q1_dict), fontsize='14')\n",
        "dot.edge('q0', 'q2', label=fmt(q2_dead_dict), fontsize='14')\n",
        "\n",
        "dot.edge('q1', 'q1', label=fmt(q1_q1_dict), fontsize='14')\n",
        "dot.edge('q1', 'q2', label=fmt(q2_dead_dict), fontsize='14')\n",
        "\n",
        "dot.edge('q2', 'q2', label=fmt(q2_dead_dict), fontsize='14')\n",
        "\n",
        "# Save + open\n",
        "dot.render('clean_dfa', view=True)\n"
      ]
    }
  ],
  "metadata": {
    "colab": {
      "provenance": []
    },
    "kernelspec": {
      "display_name": "base",
      "language": "python",
      "name": "python3"
    },
    "language_info": {
      "codemirror_mode": {
        "name": "ipython",
        "version": 3
      },
      "file_extension": ".py",
      "mimetype": "text/x-python",
      "name": "python",
      "nbconvert_exporter": "python",
      "pygments_lexer": "ipython3",
      "version": "3.12.7"
    }
  },
  "nbformat": 4,
  "nbformat_minor": 0
}
