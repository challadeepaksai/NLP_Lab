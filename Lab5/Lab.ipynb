{
 "cells": [
  {
   "cell_type": "code",
   "execution_count": null,
   "id": "2544092b",
   "metadata": {},
   "outputs": [],
   "source": [
    "#Task1\n",
    "# Validation Set-1000 Sentences\n",
    "#Test Set -1000 Senteces\n",
    "# Train Set -9L+ Sentences"
   ]
  },
  {
   "cell_type": "code",
   "execution_count": 112,
   "id": "5eccf351",
   "metadata": {},
   "outputs": [],
   "source": [
    "import pyarrow.parquet as pq\n",
    "import pandas as pd\n",
    "def get_data(path,n=1000,threshold=20):\n",
    "  data=[]\n",
    "  parquet=pq.ParquetFile(path)\n",
    "  for batch in parquet.iter_batches(batch_size=1000,columns=[\"sentence\"]):\n",
    "    df_batch=batch.to_pandas()\n",
    "    for sentence in df_batch[\"sentence\"]:\n",
    "      if sentence.endswith(\".\"):\n",
    "        sentence=sentence[:-1]\n",
    "      tokens=sentence.split()\n",
    "      safe=True\n",
    "      for token in tokens:\n",
    "        if len(token)>=threshold:\n",
    "          safe=False\n",
    "          break\n",
    "        \n",
    "      if safe:\n",
    "        data.append(sentence)\n",
    "      if len(data)==n:\n",
    "        return data\n",
    "  return data\n"
   ]
  },
  {
   "cell_type": "code",
   "execution_count": 113,
   "id": "91f0befd",
   "metadata": {},
   "outputs": [],
   "source": [
    "def get_path(file):\n",
    "  return f\"/home/deepakchalla/Desktop/Desktop/NLP/Lab1/{file}.parquet\""
   ]
  },
  {
   "cell_type": "code",
   "execution_count": 114,
   "id": "946c5bc8",
   "metadata": {},
   "outputs": [],
   "source": [
    "train_data=get_data(get_path(\"train\"),n=1000000)\n",
    "val_data=get_data(get_path(\"val\"))\n",
    "test_data=get_data(get_path(\"test\"))"
   ]
  },
  {
   "cell_type": "code",
   "execution_count": null,
   "id": "c56db4ba",
   "metadata": {},
   "outputs": [],
   "source": [
    "#Task 2\n",
    "#Get The N-grams for N={1,2,3,4}\n",
    "from collections import defaultdict\n",
    "from math import log\n"
   ]
  },
  {
   "cell_type": "code",
   "execution_count": 116,
   "id": "29fd49f5",
   "metadata": {},
   "outputs": [],
   "source": [
    "def build_ngrams(sentences,n):\n",
    "    counts=defaultdict(int)\n",
    "    for sentence in sentences:\n",
    "      tokens=[\"<s>\"]*(n-1)+sentence.split()+[\"</s>\"]*(min(n-1,1))\n",
    "      for i in range(len(tokens)-n+1):\n",
    "        counts[tuple(tokens[i:i+n])]+=1\n",
    "    \n",
    "    return counts"
   ]
  },
  {
   "cell_type": "code",
   "execution_count": 117,
   "id": "fbc61d62",
   "metadata": {},
   "outputs": [],
   "source": [
    "def print_top_k_frequencies(self,k=100):\n",
    "   cnt=0\n",
    "   print(\"C(MLE)    Nc    C*\")\n",
    "   print(f'0   0    {self.freq.get(1,0)/len(self.train)}')\n",
    "   for key,value in sorted(self.freq.items()):\n",
    "     c=key\n",
    "     Nc=value\n",
    "     Nc1=self.freq.get(c+1,0)\n",
    "     cstar=(c+1)*(Nc1/Nc) if Nc1>0 else c\n",
    "     print(f\"{c}    {Nc}    {cstar}\")\n",
    "     cnt+=1\n",
    "     if cnt==k:\n",
    "       break\n",
    "     "
   ]
  },
  {
   "cell_type": "code",
   "execution_count": null,
   "id": "39d81f55",
   "metadata": {},
   "outputs": [],
   "source": []
  },
  {
   "cell_type": "code",
   "execution_count": 118,
   "id": "9062ed9e",
   "metadata": {},
   "outputs": [],
   "source": [
    "def build_frequencies(counts):\n",
    "    freq=defaultdict(int)\n",
    "    for value in counts.values():\n",
    "      freq[value]+=1\n",
    "    return freq"
   ]
  },
  {
   "cell_type": "code",
   "execution_count": 119,
   "id": "dea356f3",
   "metadata": {},
   "outputs": [],
   "source": [
    "def good_turing_pred(self,sentences,V):\n",
    "    log_prob=[]\n",
    "    N1=self.freq.get(1,0)\n",
    "    N=sum(self.train.values())\n",
    "    p_unseen=log((N1/N)/(V**self.n-N)) if V**self.n>N else log((N1/N))\n",
    "    for sentence in sentences: \n",
    "      tokens=[\"<s>\"]*(self.n-1)+sentence.split()+[\"</s>\"]*(min(self.n-1,1))\n",
    "      pr=0\n",
    "      for i in range(len(tokens)-self.n+1):\n",
    "        n_gram=tuple(tokens[i:i+self.n])\n",
    "        #Unseen\n",
    "        if self.train[n_gram]==0:\n",
    "          pr+=p_unseen\n",
    "        else:\n",
    "          c=self.train[n_gram]\n",
    "          Nc=self.freq.get(c,0)\n",
    "          Nc1=self.freq.get(c+1,0)\n",
    "          cstar=(c+1)*(Nc1/Nc) if Nc1>0 else c\n",
    "          pr+=log(cstar/N)\n",
    "      log_prob.append(pr)\n",
    "    return log_prob"
   ]
  },
  {
   "cell_type": "code",
   "execution_count": 120,
   "id": "9eb27983",
   "metadata": {},
   "outputs": [],
   "source": [
    "class N_Gram:\n",
    "  def __init__(self,n):\n",
    "    self.n=n\n",
    "    self.train=build_ngrams(train_data,self.n)\n",
    "    self.freq=build_frequencies(self.train)     \n"
   ]
  },
  {
   "cell_type": "code",
   "execution_count": 121,
   "id": "a150f452",
   "metadata": {},
   "outputs": [],
   "source": [
    "unigrams=N_Gram(1)\n",
    "bigrams=N_Gram(2)\n",
    "trigrams=N_Gram(3)\n",
    "quadgrams=N_Gram(4)"
   ]
  },
  {
   "cell_type": "code",
   "execution_count": 137,
   "id": "f9833a50",
   "metadata": {},
   "outputs": [],
   "source": [
    "V=len(unigrams.train)\n",
    "uni_test=good_turing_pred(unigrams,test_data,V)\n",
    "uni_val=good_turing_pred(unigrams,val_data,V)\n",
    "bi_test=good_turing_pred(bigrams,test_data,V)\n",
    "bi_val=good_turing_pred(bigrams,val_data,V)\n",
    "tri_test=good_turing_pred(trigrams,test_data,V)\n",
    "tri_val=good_turing_pred(trigrams,val_data,V)\n",
    "quad_test=good_turing_pred(quadgrams,test_data,V)\n",
    "quad_val=good_turing_pred(quadgrams,val_data,V)"
   ]
  },
  {
   "cell_type": "code",
   "execution_count": 127,
   "id": "7fd1dece",
   "metadata": {},
   "outputs": [],
   "source": [
    "# Backoff\n",
    "# P=l4P4+l3P3+l2p2+l1p1\n",
    "# l1+l2+l3+l4=1"
   ]
  },
  {
   "cell_type": "code",
   "execution_count": 142,
   "id": "93d83967",
   "metadata": {},
   "outputs": [],
   "source": [
    "import numpy as np\n",
    "def exp(a):\n",
    "  return np.exp(a)"
   ]
  },
  {
   "cell_type": "code",
   "execution_count": 152,
   "id": "c9a4f017",
   "metadata": {},
   "outputs": [
    {
     "name": "stdout",
     "output_type": "stream",
     "text": [
      "0.9 0.0 0.0 0.1\n",
      "-108.40513864431794\n"
     ]
    }
   ],
   "source": [
    "#Test Data\n",
    "lT1,lT2,lT3,lT4=None,None,None,None\n",
    "best_log_prob=float('-inf')\n",
    "step_size=(1/10)\n",
    "#N=100 Time Complexity = (N**n)*1000\n",
    "#In our case (N**4)*1000= 10^8*1000=10^11\n",
    "for l1 in np.arange(0,1.0,step_size):\n",
    "  for l2 in np.arange(0,1.0,step_size):\n",
    "    for l3 in np.arange(0,1.0,step_size):\n",
    "      for l4 in np.arange(0,1.0,step_size):\n",
    "        if l1+l2+l3+l4==1:\n",
    "          lp=0\n",
    "          for i in range(len(test_data)):\n",
    "            l=l1*exp(uni_test[i])+l2*exp(bi_test[i])+l3*exp(tri_test[i])+l4*exp(quad_test[i])\n",
    "            lp+=log(l) if l>0 else 0\n",
    "          lp/=1000\n",
    "          if best_log_prob<lp:\n",
    "            lT1,lT2,lT3,lT4=l1,l2,l3,l4\n",
    "            best_log_prob=lp\n",
    "print(lT1,lT2,lT3,lT4)\n",
    "print(best_log_prob)\n"
   ]
  },
  {
   "cell_type": "code",
   "execution_count": 153,
   "id": "92777fea",
   "metadata": {},
   "outputs": [
    {
     "name": "stdout",
     "output_type": "stream",
     "text": [
      "0.9 0.0 0.0 0.1\n",
      "-106.04746956391462\n"
     ]
    }
   ],
   "source": [
    "\n",
    "lV1,lV2,lV3,lV4=None,None,None,None\n",
    "best_log_prob=float('-inf')\n",
    "step_size=(1/10)\n",
    "#N=100 Time Complexity = (N**n)*1000\n",
    "for l1 in np.arange(0,1.0,step_size):\n",
    "  for l2 in np.arange(0,1.0,step_size):\n",
    "    for l3 in np.arange(0,1.0,step_size):\n",
    "      for l4 in np.arange(0,1.0,step_size):\n",
    "        if l1+l2+l3+l4==1:\n",
    "          lp=0\n",
    "          for i in range(len(val_data)):\n",
    "            l=l1*exp(uni_val[i])+l2*exp(bi_val[i])+l3*exp(tri_val[i])+l4*exp(quad_val[i])\n",
    "            lp+=log(l) if l>0 else 0\n",
    "          lp/=1000\n",
    "          if best_log_prob<lp:\n",
    "            lV1,lV2,lV3,lV4=l1,l2,l3,l4\n",
    "            best_log_prob=lp\n",
    "print(lV1,lV2,lV3,lV4)\n",
    "print(best_log_prob)"
   ]
  }
 ],
 "metadata": {
  "kernelspec": {
   "display_name": "base",
   "language": "python",
   "name": "python3"
  },
  "language_info": {
   "codemirror_mode": {
    "name": "ipython",
    "version": 3
   },
   "file_extension": ".py",
   "mimetype": "text/x-python",
   "name": "python",
   "nbconvert_exporter": "python",
   "pygments_lexer": "ipython3",
   "version": "3.12.7"
  }
 },
 "nbformat": 4,
 "nbformat_minor": 5
}
